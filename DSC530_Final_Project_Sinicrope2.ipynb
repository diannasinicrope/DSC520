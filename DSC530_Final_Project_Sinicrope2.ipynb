{
 "cells": [
  {
   "cell_type": "markdown",
   "metadata": {},
   "source": [
    "### Dianna Sinicrope\n",
    "### DSC530 Final Project \n",
    "### 8/11/19  \n",
    "### Analysis of Avocado Sales"
   ]
  },
  {
   "cell_type": "code",
   "execution_count": 896,
   "metadata": {},
   "outputs": [],
   "source": [
    "# Import avocado data\n",
    "import numpy as np\n",
    "from numpy.polynomial.polynomial import polyfit\n",
    "import pandas as pd\n",
    "import matplotlib.pyplot as plt\n",
    "from matplotlib.ticker import StrMethodFormatter\n",
    "import thinkstats2\n",
    "import thinkplot\n",
    "import seaborn as sns\n",
    "import datetime\n",
    "import sklearn\n",
    "\n",
    "\n",
    "\n",
    "\n",
    "avocados = pd.read_csv(\"/Users/dsinicro/Desktop/avocado.csv\")"
   ]
  },
  {
   "cell_type": "code",
   "execution_count": null,
   "metadata": {},
   "outputs": [],
   "source": [
    "# view the first 10 rows\n",
    "avocados.head(10)"
   ]
  },
  {
   "cell_type": "code",
   "execution_count": null,
   "metadata": {},
   "outputs": [],
   "source": [
    "print(avocados.describe())"
   ]
  },
  {
   "cell_type": "code",
   "execution_count": null,
   "metadata": {},
   "outputs": [],
   "source": [
    "# I'm going to create a rounded column for Price to the nearest .1\n",
    "\n",
    "avocados['rounded_price'] = avocados['AveragePrice'].round(1)\n",
    "avocados.head()\n"
   ]
  },
  {
   "cell_type": "code",
   "execution_count": null,
   "metadata": {},
   "outputs": [],
   "source": [
    "# create a histogram of each variable\n",
    "hist_price= avocados.hist(column=\"rounded_price\", bins=10, grid=False, figsize=(12,8), color='#86bf91', zorder=2, rwidth=0.9)\n",
    "\n",
    "\n",
    "ax = hist_price[0]\n",
    "for x in ax:\n",
    "# Set x-axis label\n",
    "    x.set_xlabel(\"Price\", labelpad=20, size=12)\n",
    "\n",
    "    # Set y-axis label\n",
    "    x.set_ylabel(\"Frequency of Price\", labelpad=20, size=12)\n",
    "\n",
    "    # Format y-axis label\n",
    "    x.yaxis.set_major_formatter(StrMethodFormatter('{x:,g}'))\n",
    "\n",
    "\n",
    "hist_price"
   ]
  },
  {
   "cell_type": "code",
   "execution_count": null,
   "metadata": {},
   "outputs": [],
   "source": [
    "# create a histogram of each variable\n",
    "hist_totvol= avocados.hist(column=\"TotalVolume\", bins=50, grid=False, figsize=(12,8), color='#86bf91', zorder=2, rwidth=0.9)\n",
    "\n",
    "ax = hist_totvol[0]\n",
    "for x in ax:\n",
    "# Set x-axis label\n",
    "    x.set_xlabel(\"Volume\", labelpad=20, size=12)\n",
    "\n",
    "    # Set y-axis label\n",
    "    x.set_ylabel(\"Frequency of Volume\", labelpad=20, size=12)\n",
    "\n",
    "    # Format y-axis label\n",
    "    x.yaxis.set_major_formatter(StrMethodFormatter('{x:,g}'))\n",
    "    \n",
    "hist_totvol"
   ]
  },
  {
   "cell_type": "code",
   "execution_count": null,
   "metadata": {
    "scrolled": false
   },
   "outputs": [],
   "source": [
    "# create a histogram of each variable\n",
    "hist_small= avocados.hist(column=\"4046\", bins=100, grid=False, figsize=(12,8), color='#86bf91', zorder=2, rwidth=0.9)\n",
    "\n",
    "\n",
    "ax = hist_small[0]\n",
    "for x in ax:\n",
    "# Set x-axis label\n",
    "    x.set_xlabel(\"Small Avocados Sold\", labelpad=20, size=12)\n",
    "\n",
    "    # Set y-axis label\n",
    "    x.set_ylabel(\"Frequency of Small Avocados Sold\", labelpad=20, size=12)\n",
    "\n",
    "    # Format y-axis label\n",
    "    x.yaxis.set_major_formatter(StrMethodFormatter('{x:,g}'))\n",
    "\n",
    "hist_small"
   ]
  },
  {
   "cell_type": "code",
   "execution_count": null,
   "metadata": {},
   "outputs": [],
   "source": [
    "# create a histogram of each variable\n",
    "hist_large= avocados.hist(column=\"4225\", bins=50, grid=False, figsize=(12,8), color='#86bf91', zorder=2, rwidth=0.9)\n",
    "\n",
    "ax = hist_large[0]\n",
    "for x in ax:\n",
    "# Set x-axis label\n",
    "    x.set_xlabel(\"Large Avocados Sold\", labelpad=20, size=12)\n",
    "\n",
    "    # Set y-axis label\n",
    "    x.set_ylabel(\"Frequency of Large Avocados Sold\", labelpad=20, size=12)\n",
    "\n",
    "    # Format y-axis label\n",
    "    x.yaxis.set_major_formatter(StrMethodFormatter('{x:,g}'))\n",
    "    \n",
    "hist_large"
   ]
  },
  {
   "cell_type": "code",
   "execution_count": null,
   "metadata": {},
   "outputs": [],
   "source": [
    "# create a histogram of each variable\n",
    "hist_xl= avocados.hist(column=\"4770\", bins=50, grid=False, figsize=(12,8), color='#86bf91', zorder=2, rwidth=0.9)\n",
    "\n",
    "ax = hist_xl[0]\n",
    "for x in ax:\n",
    "# Set x-axis label\n",
    "    x.set_xlabel(\"XL Avocados Sold\", labelpad=20, size=12)\n",
    "\n",
    "    # Set y-axis label\n",
    "    x.set_ylabel(\"Frequency of XL Avocados Sold\", labelpad=20, size=12)\n",
    "\n",
    "    # Format y-axis label\n",
    "    x.yaxis.set_major_formatter(StrMethodFormatter('{x:,g}'))\n",
    "\n",
    "\n",
    "hist_xl"
   ]
  },
  {
   "cell_type": "code",
   "execution_count": null,
   "metadata": {},
   "outputs": [],
   "source": [
    "\n",
    "avocados.mean()"
   ]
  },
  {
   "cell_type": "code",
   "execution_count": null,
   "metadata": {},
   "outputs": [],
   "source": [
    "avocados.median()"
   ]
  },
  {
   "cell_type": "code",
   "execution_count": null,
   "metadata": {},
   "outputs": [],
   "source": [
    "avocados.mode()"
   ]
  },
  {
   "cell_type": "code",
   "execution_count": null,
   "metadata": {},
   "outputs": [],
   "source": [
    "avocados.loc[:,\"rounded_price\"].mode()"
   ]
  },
  {
   "cell_type": "code",
   "execution_count": null,
   "metadata": {},
   "outputs": [],
   "source": [
    "# mode isn't a very good indicator for this dataset since it doesn't tell us anything more about the data\n",
    "\n",
    "avocados.loc[:,\"TotalVolume\"].mode()"
   ]
  },
  {
   "cell_type": "code",
   "execution_count": null,
   "metadata": {},
   "outputs": [],
   "source": [
    "avocados.nlargest(10, ['AveragePrice']) "
   ]
  },
  {
   "cell_type": "markdown",
   "metadata": {},
   "source": [
    "Perhaps the lowest Average Price of .87 below on 2018-02-04 looks lower than others, but I don't think it's too low."
   ]
  },
  {
   "cell_type": "code",
   "execution_count": null,
   "metadata": {},
   "outputs": [],
   "source": [
    "avocados.nsmallest(10, ['AveragePrice']) "
   ]
  },
  {
   "cell_type": "code",
   "execution_count": null,
   "metadata": {},
   "outputs": [],
   "source": [
    "avocados.nlargest(10, ['TotalVolume']) "
   ]
  },
  {
   "cell_type": "code",
   "execution_count": null,
   "metadata": {},
   "outputs": [],
   "source": [
    "avocados.nsmallest(10, ['TotalVolume']) "
   ]
  },
  {
   "cell_type": "code",
   "execution_count": null,
   "metadata": {},
   "outputs": [],
   "source": [
    "# Calculate spread\n",
    "avocados.var()"
   ]
  },
  {
   "cell_type": "code",
   "execution_count": null,
   "metadata": {},
   "outputs": [],
   "source": [
    "# Calculate standard deviation\n",
    "avocados.std()"
   ]
  },
  {
   "cell_type": "code",
   "execution_count": null,
   "metadata": {},
   "outputs": [],
   "source": [
    "# print tail\n",
    "avocados.tail()"
   ]
  },
  {
   "cell_type": "code",
   "execution_count": null,
   "metadata": {},
   "outputs": [],
   "source": [
    "# Trying from Think Stats\n",
    "avgprice= avocados[\"rounded_price\"] # assigns variable name to the Average Price column\n",
    "\n",
    "hist= thinkstats2.Hist(avgprice, label='rounded_price')  # assigns variable name hist and counts frequency of avg prices"
   ]
  },
  {
   "cell_type": "code",
   "execution_count": null,
   "metadata": {},
   "outputs": [],
   "source": [
    "n = hist.Total()  # .Total counts the total counts from thinkstats2\n",
    "pmf = hist.Copy()  # .Copy returns a copy from thinkstats2. From author: Pmf objects provide a Copy method so you can make and modify a copy without affecting the original.\n",
    "for x, freq in hist.Items():  # .Items gets an unsorted sequence of (value, freq/prob) pairs. I think: hist.Items takes hist (which was the frequency counts of x and breaks each pair of (frequency count, x) into it's own item so that the next line can be computed. )\n",
    "    pmf[x] = freq / n  "
   ]
  },
  {
   "cell_type": "code",
   "execution_count": null,
   "metadata": {},
   "outputs": [],
   "source": [
    "thinkplot.Hist(pmf)  # Instead of the non-normalized plot that we created above, takes pmf that we just calculated and groups it back together for chart\n",
    "thinkplot.Config(title = 'Normalized Probabilities of Price', xlabel='Price', ylabel='PMF')  # labels with my own added chart title"
   ]
  },
  {
   "cell_type": "code",
   "execution_count": null,
   "metadata": {},
   "outputs": [],
   "source": [
    "# p. 23 of book\n",
    "organic = avocados[avocados.type == 'organic']\n",
    "conventional = avocados[avocados.type == 'conventional']\n",
    "\n",
    "# organic_hist = thinkstats2.Hist(organic.AveragePrice)\n",
    "# conventional_hist = thinkstats2.Hist(conventional.AveragePrice)\n",
    "\n",
    "organic_pmf = thinkstats2.Pmf(organic.rounded_price, label='organic')  # counts frequency of first pregnancy lengths\n",
    "conventional_pmf = thinkstats2.Pmf(conventional.rounded_price, label='conventional')  # counts frequency of non-first pregnancy lengths\n"
   ]
  },
  {
   "cell_type": "code",
   "execution_count": null,
   "metadata": {},
   "outputs": [],
   "source": [
    "thinkplot.PrePlot(2, cols =2)\n",
    "thinkplot.Hist(organic_pmf, align='right', width= .1)\n",
    "thinkplot.Hist(conventional_pmf, align='left',width= .1)\n",
    "thinkplot.Config(xlabel='Price',ylabel='probability',axis=[0,4,0,.2])"
   ]
  },
  {
   "cell_type": "code",
   "execution_count": null,
   "metadata": {},
   "outputs": [],
   "source": [
    "# Creating step chart since there's overlap in the chart above. Step is easier to see.\n",
    "thinkplot.PrePlot(2)\n",
    "thinkplot.SubPlot(2)  \n",
    "thinkplot.Pmfs([organic_pmf, conventional_pmf])  # step charts\n",
    "thinkplot.Config(xlabel='Price', axis=[0,4,0,.2])"
   ]
  },
  {
   "cell_type": "code",
   "execution_count": null,
   "metadata": {},
   "outputs": [],
   "source": [
    "# Create CDF\n",
    "\n",
    "x = np.sort(avocados['AveragePrice']) # sorts the column first\n",
    "y = np.arange(1, len(x)+1 / len(x))\n"
   ]
  },
  {
   "cell_type": "code",
   "execution_count": null,
   "metadata": {
    "scrolled": true
   },
   "outputs": [],
   "source": [
    "_ = plt.plot(x, y, marker='.', linestyle='none') # plots what I defined above\n",
    "_ = plt.xlabel('Average Price') # x axis label\n",
    "_ = plt.ylabel('ECDF') # y axis label\n",
    "plt.margins(0.02) # keeps data off plot edges\n",
    "plt.show()"
   ]
  },
  {
   "cell_type": "code",
   "execution_count": null,
   "metadata": {},
   "outputs": [],
   "source": [
    "# Book's way of calculating CDF of Actual Prices\n",
    "\n",
    "diffs = avocados.rounded_price.diff()\n",
    "cdf = thinkstats2.Cdf(diffs, label='actual')\n",
    "thinkplot.Cdf(cdf)\n",
    "thinkplot.Show(xlabel='Price', ylabel='CDF')\n"
   ]
  },
  {
   "cell_type": "code",
   "execution_count": null,
   "metadata": {},
   "outputs": [],
   "source": [
    "# Plot 1 analytical distribution \n",
    "# Complimentary CDF p 59\n",
    "\n",
    "thinkplot.Cdf(cdf, complement=True)\n",
    "thinkplot.Show(xlabel='Price', ylabel='CCDF', yscale='log')\n"
   ]
  },
  {
   "cell_type": "code",
   "execution_count": null,
   "metadata": {},
   "outputs": [],
   "source": [
    "# Create a scatter plot\n",
    "\n",
    "plt.scatter(avocados.AveragePrice, avocados.TotalVolume, alpha=0.2, s = 2)\n",
    "plt.title('Average Price vs. TotalVolume of Avocados Sold')\n",
    "plt.xlabel('Price')\n",
    "plt.ylabel('Volume')\n",
    "plt.show()\n"
   ]
  },
  {
   "cell_type": "code",
   "execution_count": null,
   "metadata": {},
   "outputs": [],
   "source": [
    "# Create a scatter plot color by group\n",
    "\n",
    "# Use the 'hue' argument to provide a factor variable\n",
    "sns.lmplot( x=\"AveragePrice\", y=\"TotalVolume\", data=avocados, fit_reg=False, hue='type', legend=False)\n",
    " \n",
    "# Move the legend to an empty part of the plot\n",
    "plt.legend(loc='lower right')\n",
    " \n"
   ]
  },
  {
   "cell_type": "code",
   "execution_count": null,
   "metadata": {},
   "outputs": [],
   "source": [
    "# Another way to use seaborn for scatter plots\n",
    "# Looks like higher volumes of conventional avocados are sold\n",
    "\n",
    "sns.pairplot(x_vars=[\"AveragePrice\"], y_vars=[\"TotalVolume\"], data=avocados, hue=\"type\", height = 10)"
   ]
  },
  {
   "cell_type": "code",
   "execution_count": null,
   "metadata": {},
   "outputs": [],
   "source": [
    "# Too many regions to really get anything out of this\n",
    "\n",
    "sns.pairplot(x_vars=[\"AveragePrice\"], y_vars=[\"TotalVolume\"], data=avocados, hue=\"region\", height = 10)"
   ]
  },
  {
   "cell_type": "code",
   "execution_count": null,
   "metadata": {},
   "outputs": [],
   "source": [
    "# add sortable date column with YYYY-MM-DD format\n",
    "\n",
    "avocados['DS_date'] = pd.to_datetime(avocados['Date'])\n",
    "avocados.head()"
   ]
  },
  {
   "cell_type": "code",
   "execution_count": null,
   "metadata": {},
   "outputs": [],
   "source": [
    "# Line chart of prices of avocados by type sold over time\n",
    "\n",
    "price_type = pd.pivot_table(avocados,index=[\"DS_date\"], columns=['type'], values=['AveragePrice'], aggfunc='mean')\n",
    "price_type.plot()"
   ]
  },
  {
   "cell_type": "code",
   "execution_count": null,
   "metadata": {},
   "outputs": [],
   "source": [
    "# Line chart of volume of avocados by type sold over time\n",
    "\n",
    "volume_type = pd.pivot_table(avocados,index=[\"DS_date\"], columns=['type'], values=['TotalVolume'], aggfunc='mean')\n",
    "volume_type.plot()"
   ]
  },
  {
   "cell_type": "code",
   "execution_count": null,
   "metadata": {},
   "outputs": [],
   "source": [
    "# Zoom of organic line chart of prices of avocados by type (organic only) sold over time\n",
    "\n",
    "volumeorganic_type = avocados[avocados.type == 'organic'].pivot_table(index=[\"DS_date\"], columns=['type'], values=['TotalVolume'], aggfunc='mean')\n",
    "volumeorganic_type.plot(kind = 'line', color = 'orange')"
   ]
  },
  {
   "cell_type": "code",
   "execution_count": null,
   "metadata": {
    "scrolled": true
   },
   "outputs": [],
   "source": [
    "# Line chart of volume and price of avocados by type sold over time\n",
    "\n",
    "volume_price = avocados.pivot_table(index=[\"AveragePrice\"], columns=['type'], values=['TotalVolume'], aggfunc='mean')\n",
    "volume_price.plot()"
   ]
  },
  {
   "cell_type": "code",
   "execution_count": null,
   "metadata": {},
   "outputs": [],
   "source": [
    "# correlation of all variables\n",
    "\n",
    "correlation = avocados.corr()\n",
    "correlation"
   ]
  },
  {
   "cell_type": "code",
   "execution_count": null,
   "metadata": {},
   "outputs": [],
   "source": [
    "# correlation of 2 variables\n",
    "\n",
    "corr2= (avocados[['AveragePrice','TotalVolume']].corr())\n",
    "corr2"
   ]
  },
  {
   "cell_type": "code",
   "execution_count": null,
   "metadata": {},
   "outputs": [],
   "source": [
    "\n"
   ]
  },
  {
   "cell_type": "code",
   "execution_count": null,
   "metadata": {},
   "outputs": [],
   "source": [
    "# correlation of organic vs conventional avocados\n",
    "corr3 = price_type.corr()\n",
    "corr3\n"
   ]
  },
  {
   "cell_type": "code",
   "execution_count": null,
   "metadata": {
    "scrolled": false
   },
   "outputs": [],
   "source": [
    "# covariance of all variables\n",
    "\n",
    "covariance = avocados.cov()\n",
    "covariance"
   ]
  },
  {
   "cell_type": "code",
   "execution_count": null,
   "metadata": {
    "scrolled": true
   },
   "outputs": [],
   "source": [
    "# covariance of organic and conventional avocado prices\n",
    "cov3 = price_type.cov()\n",
    "cov3"
   ]
  },
  {
   "cell_type": "code",
   "execution_count": null,
   "metadata": {},
   "outputs": [],
   "source": [
    "# means\n",
    "# organic avocados are usually more expensive\n",
    "mean3 = price_type.mean()\n",
    "mean3"
   ]
  },
  {
   "cell_type": "code",
   "execution_count": null,
   "metadata": {},
   "outputs": [],
   "source": [
    "# median\n",
    "median3 = price_type.median()\n",
    "median3\n"
   ]
  },
  {
   "cell_type": "code",
   "execution_count": null,
   "metadata": {},
   "outputs": [],
   "source": [
    "# mode\n",
    "mode3 = price_type.mode()\n",
    "mode3"
   ]
  },
  {
   "cell_type": "code",
   "execution_count": null,
   "metadata": {},
   "outputs": [],
   "source": [
    "#find tail\n",
    "\n",
    "price_type.tail()"
   ]
  },
  {
   "cell_type": "code",
   "execution_count": null,
   "metadata": {},
   "outputs": [],
   "source": [
    "# histogram organic prices\n",
    "hist_type_price= price_type.hist(column=\"AveragePrice\", bins=10, grid=False, figsize=(15,6), color='#86bf91', zorder=2, rwidth=0.9)\n",
    "\n",
    "ax = hist_large[0]\n",
    "for x in ax:\n",
    "# Set x-axis label\n",
    "    x.set_xlabel(\"Price of Avocados\", labelpad=20, size=12)\n",
    "\n",
    "    # Set y-axis label\n",
    "    x.set_ylabel(\"Frequency of Avocado Prices\", labelpad=20, size=12)\n",
    "\n",
    "    # Format y-axis label\n",
    "    x.yaxis.set_major_formatter(StrMethodFormatter('{x:,g}'))\n",
    "    \n",
    "hist_type_price"
   ]
  },
  {
   "cell_type": "code",
   "execution_count": null,
   "metadata": {},
   "outputs": [],
   "source": [
    "# groupby_date= avocados.groupby('DS_date')\n",
    "# print(groupby_date)\n",
    "\n",
    "# organic_only =avocados.groupby(['DS_date'])\n",
    "# organic_only\n",
    "\n",
    "\n",
    "long_table = pd.pivot_table(avocados, 'AveragePrice', ['type'], 'DS_date')"
   ]
  },
  {
   "cell_type": "code",
   "execution_count": null,
   "metadata": {},
   "outputs": [],
   "source": [
    "long_tableT= long_table.T"
   ]
  },
  {
   "cell_type": "code",
   "execution_count": null,
   "metadata": {
    "scrolled": false
   },
   "outputs": [],
   "source": [
    "# histogram organic prices\n",
    "hist_long_tableT= long_tableT.hist(column=\"conventional\", bins=10, grid=False, figsize=(15,8), color='#86bf91', zorder=2, rwidth=0.9)\n",
    "\n",
    "ax = hist_large[0]\n",
    "for x in ax:\n",
    "# Set x-axis label\n",
    "    x.set_xlabel(\"Price of Conventional Avocados\", labelpad=10, size=16)\n",
    "\n",
    "    # Set y-axis label\n",
    "    x.set_ylabel(\"Frequency of Conventional Avocado Prices\", labelpad=10, size=12)\n",
    "\n",
    "    # Format y-axis label\n",
    "    x.yaxis.set_major_formatter(StrMethodFormatter('{x:,g}'))\n",
    "    \n",
    "hist_long_tableT"
   ]
  },
  {
   "cell_type": "code",
   "execution_count": null,
   "metadata": {},
   "outputs": [],
   "source": [
    "# Create CDF of conventional prices\n",
    "\n",
    "x = np.sort(long_tableT['conventional']) # sorts the column first\n",
    "y = np.arange(1, len(x)+1 / len(x))\n",
    "\n",
    "\n",
    "_ = plt.plot(x, y, marker='.', linestyle='none') # plots what I defined above\n",
    "_ = plt.xlabel('Average Price of Conventional Avocados') # x axis label\n",
    "_ = plt.ylabel('ECDF') # y axis label\n",
    "plt.margins(0.02) # keeps data off plot edges\n",
    "plt.show()"
   ]
  },
  {
   "cell_type": "code",
   "execution_count": null,
   "metadata": {},
   "outputs": [],
   "source": [
    "# Create CDF of corganic prices\n",
    "\n",
    "x = np.sort(long_tableT['organic']) # sorts the column first\n",
    "y = np.arange(1, len(x)+1 / len(x))\n",
    "\n",
    "\n",
    "_ = plt.plot(x, y, marker='.', linestyle='none') # plots what I defined above\n",
    "_ = plt.xlabel('Average Price of Organic Avocados') # x axis label\n",
    "_ = plt.ylabel('ECDF') # y axis label\n",
    "plt.margins(0.02) # keeps data off plot edges\n",
    "plt.show()"
   ]
  },
  {
   "cell_type": "code",
   "execution_count": null,
   "metadata": {},
   "outputs": [],
   "source": [
    "# permutation test of organic and conventional prices\n",
    "\n",
    "z =long_tableT.organic\n",
    "y =long_tableT.conventional\n",
    "\n",
    "theta_hat = z.mean() - y.mean()\n",
    "print(theta_hat)\n"
   ]
  },
  {
   "cell_type": "code",
   "execution_count": null,
   "metadata": {},
   "outputs": [],
   "source": [
    "# Calculate Peason's coefficient\n",
    "\n",
    "np.corrcoef(z, y)[0, 1]"
   ]
  },
  {
   "cell_type": "code",
   "execution_count": null,
   "metadata": {
    "scrolled": true
   },
   "outputs": [],
   "source": [
    "# test correlation\n",
    "\n",
    "long_tableT.corr()"
   ]
  },
  {
   "cell_type": "code",
   "execution_count": null,
   "metadata": {},
   "outputs": [],
   "source": [
    "# Conduct a test on your hypothesis using one of the methods covered in Chapter 9.\n",
    "# Permutation test\n",
    "\n",
    "class CorrelationPermute(thinkstats2.HypothesisTest):\n",
    "\n",
    "    def TestStatistic(self, data):\n",
    "        xs, ys = data\n",
    "        test_stat = abs(thinkstats2.Corr(xs, ys))\n",
    "        return test_stat\n",
    "\n",
    "    def RunModel(self):\n",
    "        xs, ys = self.data\n",
    "        xs = np.random.permutation(xs)\n",
    "        return xs, ys"
   ]
  },
  {
   "cell_type": "code",
   "execution_count": null,
   "metadata": {},
   "outputs": [],
   "source": [
    "cleaned = long_tableT.dropna(subset=['organic', 'conventional'])\n",
    "data = cleaned.organic.values, cleaned.conventional.values\n",
    "ht = CorrelationPermute(data)\n",
    "pvalue = ht.PValue()\n",
    "pvalue"
   ]
  },
  {
   "cell_type": "markdown",
   "metadata": {},
   "source": [
    "The reported p-value is 0, which means that in 1000 trials we didn't see a correlation, under the null hypothesis, that exceeded the observed correlation. That means that the p-value is probably smaller than  1/1000 , but it is not actually 0"
   ]
  },
  {
   "cell_type": "code",
   "execution_count": null,
   "metadata": {
    "scrolled": true
   },
   "outputs": [],
   "source": [
    "# Can't get linear fit to work\n",
    "# Conduct a regression analysis on either one dependent and one explanatory variable, or multiple explanatory variables (Chapter 10 & 11)\n",
    "# Linear fit\n",
    "\n",
    "# Sample data\n",
    "x = avocados.DS_date\n",
    "y = avocados.AveragePrice\n",
    "\n",
    "# Fit with polyfit\n",
    "b, m = polyfit(x, y, 1)\n",
    "\n",
    "plt.plot(x, y, '.')\n",
    "plt.plot(x, b + m * x, '-')\n",
    "plt.show()\n"
   ]
  },
  {
   "cell_type": "code",
   "execution_count": null,
   "metadata": {},
   "outputs": [],
   "source": [
    "# Can't get linear fit to work\n",
    "plt.scatter(avocados.AveragePrice, avocados.TotalVolume, alpha=0.2, s = 2)\n",
    "plt.title('Average Price vs. TotalVolume of Avocados Sold')\n",
    "plt.xlabel('Price')\n",
    "plt.ylabel('Volume')\n",
    "plt.show()\n"
   ]
  },
  {
   "cell_type": "code",
   "execution_count": null,
   "metadata": {},
   "outputs": [],
   "source": [
    "# Can't get linear fit to work\n",
    "lm.predict(avocados.AveragePrice)[0:5]"
   ]
  },
  {
   "cell_type": "code",
   "execution_count": null,
   "metadata": {},
   "outputs": [],
   "source": [
    "# Can't get linear fit to work\n",
    "# Correlation coefficients measure the strength of a relationship betwen variables, but not the slope. Linear least square will estimate the slope.\n",
    "\n",
    "from thinkstats2 import Mean, MeanVar, Var, Std, Cov\n",
    "\n",
    "def LeastSquares(xs, ys):\n",
    "    meanx, varx = MeanVar(xs)\n",
    "    meany = Mean(ys)\n",
    "\n",
    "    slope = Cov(xs, ys, meanx, meany) / varx # establishes relationship between x and y for slope\n",
    "    inter = meany - slope * meanx # uses slope and meanx to find the intercept\n",
    "\n",
    "    return inter, slope"
   ]
  },
  {
   "cell_type": "code",
   "execution_count": null,
   "metadata": {},
   "outputs": [],
   "source": [
    "# Can't get linear fit to work\n",
    "# will return the fitted line for a sequence of x\n",
    "\n",
    "def FitLine(xs, inter, slope):\n",
    "    fit_xs = np.sort(xs)\n",
    "    fit_ys = inter + slope * fit_xs\n",
    "    return fit_xs, fit_ys"
   ]
  },
  {
   "cell_type": "code",
   "execution_count": null,
   "metadata": {},
   "outputs": [],
   "source": [
    "# Can't get linear fit to work\n",
    "fit_xs, fit_ys = FitLine(avocados.AveragePrice, inter, slope)"
   ]
  },
  {
   "cell_type": "code",
   "execution_count": null,
   "metadata": {},
   "outputs": [],
   "source": [
    "# Can't get linear fit to work\n",
    "# good to look at a model like this to see if the line is a good fit for the data\n",
    "\n",
    "thinkplot.Scatter(avocados.AveragePrice, avocados.DS_date, color='blue', alpha=0.1, s=10)\n",
    "thinkplot.Plot(fit_xs, fit_ys, color='white', linewidth=3)\n",
    "thinkplot.Plot(fit_xs, fit_ys, color='red', linewidth=2)\n",
    "thinkplot.Config(xlabel=\"Average Price\",\n",
    "                 ylabel='Date',\n",
    "                 axis=[10, 45, 0, 15],\n",
    "                 legend=False)"
   ]
  },
  {
   "cell_type": "code",
   "execution_count": null,
   "metadata": {},
   "outputs": [],
   "source": [
    "# Can't get this to work. Confidence Intervals from Think Stats\n",
    "\n",
    "def PlotConfidenceIntervals(xs, inters, slopes, percent=90, **options):\n",
    "    fys_seq = []\n",
    "    for inter, slope in zip(inters, slopes):\n",
    "        fxs, fys = FitLine(xs, inter, slope)\n",
    "        fys_seq.append(fys)\n",
    "\n",
    "    p = (100 - percent) / 2\n",
    "    percents = p, 100 - p\n",
    "    low, high = thinkstats2.PercentileRows(fys_seq, percents)\n",
    "    thinkplot.FillBetween(fxs, low, high, **options)"
   ]
  },
  {
   "cell_type": "code",
   "execution_count": null,
   "metadata": {},
   "outputs": [],
   "source": [
    "# Can't get this to work. Confidence Intervals from Think Stats\n",
    "\n",
    "PlotConfidenceIntervals(avocados.AveragePrice, inters, slopes, percent=90, \n",
    "                        color='gray', alpha=0.3, label='90% CI')\n",
    "PlotConfidenceIntervals(avocados.AveragePrice, inters, slopes, percent=50,\n",
    "                        color='gray', alpha=0.5, label='50% CI')\n",
    "\n",
    "thinkplot.Config(xlabel=\"Mother's age (years)\",\n",
    "                 ylabel='Residual (lbs)',\n",
    "                 xlim=[10, 45])"
   ]
  }
 ],
 "metadata": {
  "kernelspec": {
   "display_name": "Python 3",
   "language": "python",
   "name": "python3"
  },
  "language_info": {
   "codemirror_mode": {
    "name": "ipython",
    "version": 3
   },
   "file_extension": ".py",
   "mimetype": "text/x-python",
   "name": "python",
   "nbconvert_exporter": "python",
   "pygments_lexer": "ipython3",
   "version": "3.7.3"
  }
 },
 "nbformat": 4,
 "nbformat_minor": 2
}
